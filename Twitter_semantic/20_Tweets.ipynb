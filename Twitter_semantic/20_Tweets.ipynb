{
 "cells": [
  {
   "cell_type": "code",
   "execution_count": null,
   "metadata": {
    "collapsed": true
   },
   "outputs": [],
   "source": [
    "from tweepy import Stream\n",
    "from tweepy import OAuthHandler\n",
    "from tweepy.streaming import StreamListener\n",
    "import json\n",
    "import sentiment_mod as s\n",
    "\n",
    "#consumer key, consumer secret, access token, access secret.\n",
    "ckey=\"******************\"\n",
    "csecret=\"**************************\"\n",
    "atoken=\"****************************\"\n",
    "asecret=\"************************************\"\n",
    "\n",
    "from twitterapistuff import *\n",
    "\n",
    "class listener(StreamListener):\n",
    "\n",
    "    def on_data(self, data):\n",
    "\n",
    "\t\tall_data = json.loads(data)\n",
    "\n",
    "\t\ttweet = all_data[\"text\"]\n",
    "\t\tsentiment_value, confidence = s.sentiment(tweet)\n",
    "\t\tprint(tweet, sentiment_value, confidence)\n",
    "\n",
    "\t\tif confidence*100 >= 80:\n",
    "\t\t\toutput = open(\"twitter-out.txt\",\"a\")\n",
    "\t\t\toutput.write(sentiment_value)\n",
    "\t\t\toutput.write('\\n')\n",
    "\t\t\toutput.close()\n",
    "\n",
    "\t\treturn True\n",
    "\n",
    "    def on_error(self, status):\n",
    "        print(status)\n",
    "\n",
    "auth = OAuthHandler(ckey, csecret)\n",
    "auth.set_access_token(atoken, asecret)\n",
    "\n",
    "twitterStream = Stream(auth, listener())\n",
    "twitterStream.filter(track=[\"happy\"])"
   ]
  }
 ],
 "metadata": {
  "kernelspec": {
   "display_name": "Python 3",
   "language": "python",
   "name": "python3"
  },
  "language_info": {
   "codemirror_mode": {
    "name": "ipython",
    "version": 3
   },
   "file_extension": ".py",
   "mimetype": "text/x-python",
   "name": "python",
   "nbconvert_exporter": "python",
   "pygments_lexer": "ipython3",
   "version": "3.6.1"
  }
 },
 "nbformat": 4,
 "nbformat_minor": 2
}
